{
  "cells": [
    {
      "cell_type": "markdown",
      "metadata": {},
      "source": [
        "# 🧠 Análise de Instâncias - Visualização de Grafos\n",
        "Este notebook realiza a leitura dos arquivos `.dat` presentes na pasta `selected_instances`, exibe estatísticas e mostra o grafo correspondente para cada arquivo."
      ]
    },
    {
      "cell_type": "code",
      "execution_count": null,
      "metadata": {},
      "outputs": [],
      "source": [
        "# 📦 Importações\n",
        "# Célula 1: Importações necessárias\n",
        "import matplotlib.pyplot as plt\n",
        "from fase1.leitura import parse_dat_file\n",
        "from fase1.estatisticas import calcular_estatisticas_sem_networkx\n",
        "from fase1.grafo import gerar_grafo_como_lista_adjacencia, desenhar_grafo_no_notebook\n"
      ]
    },
    {
      "cell_type": "code",
      "execution_count": null,
      "metadata": {},
      "outputs": [],
      "source": [
        "# Célula 2: Definir o caminho do arquivo a ser processado\n",
        "import os\n",
        "\n",
        "# Certifique-se de que o arquivo .dat está na pasta 'selected_instances'\n",
        "pasta = \"dados/MCGRP\"\n",
        "arquivo_nome = input(\"Digite o nome do arquivo (sem a extensão .dat) que deseja processar: \")  # Solicitar apenas o nome\n",
        "caminho_arquivo = os.path.join(pasta, f\"{arquivo_nome}.dat\")  # Adiciona a extensão automaticamente\n",
        "\n",
        "print(f\"O arquivo escolhido foi: {arquivo_nome}.dat\")\n",
        "\n",
        "if not os.path.exists(caminho_arquivo):\n",
        "    print(f\"Erro: O arquivo {arquivo_nome}.dat não foi encontrado na pasta {pasta}.\")\n",
        "else:\n",
        "    print(f\"Arquivo localizado: {caminho_arquivo}\")\n"
      ]
    },
    {
      "cell_type": "code",
      "execution_count": null,
      "metadata": {},
      "outputs": [],
      "source": [
        "# Célula 3: Leitura dos dados\n",
        "print(f\"Processando arquivo: {arquivo_nome}\")\n",
        "(\n",
        "    matriz, n_vertices, arestas, arcos,\n",
        "    vertices_requeridos, arestas_requeridas, arcos_requeridos\n",
        ") = parse_dat_file(caminho_arquivo)\n",
        "\n",
        "# Exibir as informações lidas\n",
        "print(f\"\\n### Informações do Grafo ###\")\n",
        "print(f\"Quantidade de vértices: {n_vertices}\")\n",
        "print(f\"Quantidade de arestas: {len(arestas)}\")\n",
        "print(f\"Quantidade de arcos: {len(arcos)}\")\n",
        "print(f\"Quantidade de vértices requeridos: {len(vertices_requeridos)}\")\n",
        "print(f\"Quantidade de arestas requeridas: {len(arestas_requeridas)}\")\n",
        "print(f\"Quantidade de arcos requeridos: {len(arcos_requeridos)}\")"
      ]
    },
    {
      "cell_type": "code",
      "execution_count": null,
      "id": "33a0fddc",
      "metadata": {},
      "outputs": [],
      "source": [
        "# Célula 4: Cálculo das estatísticas\n",
        "print(\"\\n### Estatísticas do Grafo ###\")\n",
        "calcular_estatisticas_sem_networkx(\n",
        "    matriz, n_vertices, arestas, arcos,\n",
        "    vertices_requeridos, arestas_requeridas, arcos_requeridos\n",
        ")"
      ]
    },
    {
      "cell_type": "code",
      "execution_count": null,
      "id": "8cc6544e",
      "metadata": {},
      "outputs": [],
      "source": [
        "# Célula 5: Geração e exibição do grafo\n",
        "grafo = gerar_grafo_como_lista_adjacencia(n_vertices, arestas, arcos)\n",
        "plt.figure(figsize=(10, 8))\n",
        "\n",
        "# Função para desenhar o grafo diretamente no notebook\n",
        "desenhar_grafo_no_notebook(grafo, arquivo_nome, vertices_requeridos, arestas_requeridas, arcos_requeridos)\n",
        "plt.show()  # Exibe o grafo no notebook"
      ]
    }
  ],
  "metadata": {
    "kernelspec": {
      "display_name": "Python 3",
      "language": "python",
      "name": "python3"
    },
    "language_info": {
      "codemirror_mode": {
        "name": "ipython",
        "version": 3
      },
      "file_extension": ".py",
      "mimetype": "text/x-python",
      "name": "python",
      "nbconvert_exporter": "python",
      "pygments_lexer": "ipython3",
      "version": "3.12.2"
    }
  },
  "nbformat": 4,
  "nbformat_minor": 5
}
